{
  "nbformat": 4,
  "nbformat_minor": 0,
  "metadata": {
    "colab": {
      "provenance": [],
      "authorship_tag": "ABX9TyPRXI+xGeElwvTDKsG3idV+",
      "include_colab_link": true
    },
    "kernelspec": {
      "name": "python3",
      "display_name": "Python 3"
    },
    "language_info": {
      "name": "python"
    }
  },
  "cells": [
    {
      "cell_type": "markdown",
      "metadata": {
        "id": "view-in-github",
        "colab_type": "text"
      },
      "source": [
        "<a href=\"https://colab.research.google.com/github/danielsiagian12/daniel/blob/main/Untitled16.ipynb\" target=\"_parent\"><img src=\"https://colab.research.google.com/assets/colab-badge.svg\" alt=\"Open In Colab\"/></a>"
      ]
    },
    {
      "cell_type": "code",
      "execution_count": 1,
      "metadata": {
        "colab": {
          "base_uri": "https://localhost:8080/"
        },
        "id": "ntiUCadzrT38",
        "outputId": "34dc0d30-daf8-4889-e44e-3e50a035f449"
      },
      "outputs": [
        {
          "output_type": "stream",
          "name": "stdout",
          "text": [
            "Array A dan B sama\n",
            "Array A dan C tidak sama\n"
          ]
        }
      ],
      "source": [
        "def bandingkan_array(arr1, arr2):\n",
        "    if len(arr1) != len(arr2):\n",
        "        return False\n",
        "\n",
        "    for i in range(len(arr1)):\n",
        "        if arr1[i] != arr2[i]:\n",
        "            return False\n",
        "             return True\n",
        "\n",
        "A = [4, 6, 3, 1]\n",
        "B = [4, 6, 3, 1]\n",
        "C = [4, 3, 6, 1]\n",
        "\n",
        "print(\"Array A dan B sama\" if bandingkan_array(A, B) else \"Array A dan B tidak sama\")\n",
        "print(\"Array A dan C sama\" if bandingkan_array(A, C) else \"Array A dan C tidak sama\")"
      ]
    }
  ]
}